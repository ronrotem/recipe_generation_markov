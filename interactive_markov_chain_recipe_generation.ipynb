{
    "cells": [
        {
            "cell_type": "markdown",
            "source": [
                "# Интерактивная модель генерации рецептов с помощью марковских цепей"
            ],
            "metadata": {}
        },
        {
            "cell_type": "markdown",
            "source": [
                "## Импортируем все функции и обучаем модель"
            ],
            "metadata": {}
        },
        {
            "cell_type": "code",
            "execution_count": null,
            "source": [
                "import imports_and_functions as fun\r\n",
                "giant_model = fun.build_all_the_models()"
            ],
            "outputs": [],
            "metadata": {}
        },
        {
            "cell_type": "markdown",
            "source": [
                "## Выбираем категорию и названия для блюда"
            ],
            "metadata": {}
        },
        {
            "cell_type": "code",
            "execution_count": null,
            "source": [
                "cat = fun.pick_category()\r\n",
                "cat, chosen_title = fun.pick_title(giant_model, cat)"
            ],
            "outputs": [],
            "metadata": {}
        },
        {
            "cell_type": "markdown",
            "source": [
                "## Составляем список ингредиентов"
            ],
            "metadata": {}
        },
        {
            "cell_type": "code",
            "execution_count": null,
            "source": [
                "set_of_ingrs = fun.split_title_into_words(chosen_title)\r\n",
                "possible_wordforms_for_ingrs = fun.get_ingredient_wordforms(set_of_ingrs)\r\n",
                "ingredient_list = fun.produce_ingredients_from_title_first(giant_model, cat, possible_wordforms_for_ingrs)"
            ],
            "outputs": [],
            "metadata": {}
        },
        {
            "cell_type": "code",
            "execution_count": null,
            "source": [
                "ingredient_list = fun.modify_ingr_list(giant_model, ingredient_list, cat)\r\n",
                "print(ingredient_list)\r\n",
                "list_of_ingrs_form_lists = fun.get_forms_for_ingrs(ingredient_list)"
            ],
            "outputs": [],
            "metadata": {}
        },
        {
            "cell_type": "markdown",
            "source": [
                "## Генерируем инструкцию"
            ],
            "metadata": {}
        },
        {
            "cell_type": "code",
            "execution_count": null,
            "source": [
                "steps = fun.produce_steps(giant_model, list_of_ingrs_form_lists, cat)\r\n",
                "last_steps = fun.produce_steps(giant_model, list_of_ingrs_form_lists, cat, model='twolaststeps_model')"
            ],
            "outputs": [],
            "metadata": {}
        },
        {
            "cell_type": "markdown",
            "source": [
                "## Генерируем текст вступления к рецепту (не обязательно)"
            ],
            "metadata": {}
        },
        {
            "cell_type": "code",
            "execution_count": null,
            "source": [
                "intro_text_first = fun.produce_start_text(giant_model, chosen_title, list_of_ingrs_form_lists, cat, model='intros_model')\r\n",
                "intro_text = fun.produce_text_based_on_prior_text(giant_model, intro_text_first, cat, model='intros_model')"
            ],
            "outputs": [],
            "metadata": {}
        },
        {
            "cell_type": "markdown",
            "source": [
                "## Генерируем текст совета, который завершает рецепт (не обязательно)"
            ],
            "metadata": {}
        },
        {
            "cell_type": "code",
            "execution_count": null,
            "source": [
                "advice_text_kept = fun.produce_start_text(giant_model, chosen_title, list_of_ingrs_form_lists, cat, model='advice_model')\r\n",
                "advice_text = fun.produce_text_based_on_prior_text(giant_model, advice_text_kept, cat, model='advice_model')"
            ],
            "outputs": [],
            "metadata": {}
        },
        {
            "cell_type": "markdown",
            "source": [
                "## Готово! Смотрим:"
            ],
            "metadata": {}
        },
        {
            "cell_type": "code",
            "execution_count": null,
            "source": [
                "fun.print_beautifully(chosen_title, intro_text, ingredient_list, steps, last_steps, advice_text)"
            ],
            "outputs": [],
            "metadata": {}
        }
    ],
    "metadata": {
        "orig_nbformat": 4,
        "language_info": {
            "name": "python",
            "version": "3.7.5",
            "mimetype": "text/x-python",
            "codemirror_mode": {
                "name": "ipython",
                "version": 3
            },
            "pygments_lexer": "ipython3",
            "nbconvert_exporter": "python",
            "file_extension": ".py"
        },
        "kernelspec": {
            "name": "python3",
            "display_name": "Python 3.7.5 64-bit"
        },
        "interpreter": {
            "hash": "57baa5815c940fdaff4d14510622de9616cae602444507ba5d0b6727c008cbd6"
        }
    },
    "nbformat": 4,
    "nbformat_minor": 2
}